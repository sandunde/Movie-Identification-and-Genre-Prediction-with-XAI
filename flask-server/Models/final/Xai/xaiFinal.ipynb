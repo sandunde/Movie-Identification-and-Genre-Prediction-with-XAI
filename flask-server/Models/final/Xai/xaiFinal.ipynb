{
 "cells": [
  {
   "cell_type": "code",
   "execution_count": 2,
   "metadata": {},
   "outputs": [
    {
     "name": "stdout",
     "output_type": "stream",
     "text": [
      "Predicted Genre: Horror\n"
     ]
    },
    {
     "data": {
      "text/html": [
       "<table width: 100%><div style=\"border-top: 1px solid; margin-top: 5px;             padding-top: 5px; display: inline-block\"><b>Legend: </b><span style=\"display: inline-block; width: 10px; height: 10px;                 border: 1px solid; background-color:                 hsl(0, 75%, 60%)\"></span> Negative  <span style=\"display: inline-block; width: 10px; height: 10px;                 border: 1px solid; background-color:                 hsl(0, 75%, 100%)\"></span> Neutral  <span style=\"display: inline-block; width: 10px; height: 10px;                 border: 1px solid; background-color:                 hsl(120, 75%, 50%)\"></span> Positive  </div><tr><th>True Label</th><th>Predicted Label</th><th>Attribution Label</th><th>Attribution Score</th><th>Word Importance</th><tr><td><text style=\"padding-right:2em\"><b>5</b></text></td><td><text style=\"padding-right:2em\"><b>5 (0.78)</b></text></td><td><text style=\"padding-right:2em\"><b>[[101, 2004, 1996, 5119, 4930, 7090, 1010, 1037, 2668, 10841, 4103, 2989, 6978, 16276, 1996, 4223, 1010, 17142, 2083, 1996, 4064, 9873, 1997, 1996, 4704, 7330, 1012, 102]]</b></text></td><td><text style=\"padding-right:2em\"><b>5.61</b></text></td><td><mark style=\"background-color: hsl(120, 75%, 96%); opacity:1.0;                     line-height:1.75\"><font color=\"black\"> [CLS]                    </font></mark><mark style=\"background-color: hsl(120, 75%, 87%); opacity:1.0;                     line-height:1.75\"><font color=\"black\"> as                    </font></mark><mark style=\"background-color: hsl(120, 75%, 94%); opacity:1.0;                     line-height:1.75\"><font color=\"black\"> the                    </font></mark><mark style=\"background-color: hsl(120, 75%, 73%); opacity:1.0;                     line-height:1.75\"><font color=\"black\"> clock                    </font></mark><mark style=\"background-color: hsl(120, 75%, 89%); opacity:1.0;                     line-height:1.75\"><font color=\"black\"> struck                    </font></mark><mark style=\"background-color: hsl(120, 75%, 64%); opacity:1.0;                     line-height:1.75\"><font color=\"black\"> midnight                    </font></mark><mark style=\"background-color: hsl(120, 75%, 87%); opacity:1.0;                     line-height:1.75\"><font color=\"black\"> ,                    </font></mark><mark style=\"background-color: hsl(120, 75%, 90%); opacity:1.0;                     line-height:1.75\"><font color=\"black\"> a                    </font></mark><mark style=\"background-color: hsl(120, 75%, 68%); opacity:1.0;                     line-height:1.75\"><font color=\"black\"> blood                    </font></mark><mark style=\"background-color: hsl(0, 75%, 82%); opacity:1.0;                     line-height:1.75\"><font color=\"black\"> ##cu                    </font></mark><mark style=\"background-color: hsl(0, 75%, 98%); opacity:1.0;                     line-height:1.75\"><font color=\"black\"> ##rd                    </font></mark><mark style=\"background-color: hsl(0, 75%, 91%); opacity:1.0;                     line-height:1.75\"><font color=\"black\"> ##ling                    </font></mark><mark style=\"background-color: hsl(120, 75%, 50%); opacity:1.0;                     line-height:1.75\"><font color=\"black\"> scream                    </font></mark><mark style=\"background-color: hsl(120, 75%, 96%); opacity:1.0;                     line-height:1.75\"><font color=\"black\"> pierced                    </font></mark><mark style=\"background-color: hsl(120, 75%, 97%); opacity:1.0;                     line-height:1.75\"><font color=\"black\"> the                    </font></mark><mark style=\"background-color: hsl(120, 75%, 78%); opacity:1.0;                     line-height:1.75\"><font color=\"black\"> silence                    </font></mark><mark style=\"background-color: hsl(120, 75%, 93%); opacity:1.0;                     line-height:1.75\"><font color=\"black\"> ,                    </font></mark><mark style=\"background-color: hsl(120, 75%, 92%); opacity:1.0;                     line-height:1.75\"><font color=\"black\"> echoing                    </font></mark><mark style=\"background-color: hsl(0, 75%, 99%); opacity:1.0;                     line-height:1.75\"><font color=\"black\"> through                    </font></mark><mark style=\"background-color: hsl(0, 75%, 99%); opacity:1.0;                     line-height:1.75\"><font color=\"black\"> the                    </font></mark><mark style=\"background-color: hsl(120, 75%, 78%); opacity:1.0;                     line-height:1.75\"><font color=\"black\"> empty                    </font></mark><mark style=\"background-color: hsl(0, 75%, 98%); opacity:1.0;                     line-height:1.75\"><font color=\"black\"> halls                    </font></mark><mark style=\"background-color: hsl(120, 75%, 98%); opacity:1.0;                     line-height:1.75\"><font color=\"black\"> of                    </font></mark><mark style=\"background-color: hsl(0, 75%, 97%); opacity:1.0;                     line-height:1.75\"><font color=\"black\"> the                    </font></mark><mark style=\"background-color: hsl(120, 75%, 89%); opacity:1.0;                     line-height:1.75\"><font color=\"black\"> abandoned                    </font></mark><mark style=\"background-color: hsl(120, 75%, 55%); opacity:1.0;                     line-height:1.75\"><font color=\"black\"> mansion                    </font></mark><mark style=\"background-color: hsl(120, 75%, 99%); opacity:1.0;                     line-height:1.75\"><font color=\"black\"> .                    </font></mark><mark style=\"background-color: hsl(0, 75%, 90%); opacity:1.0;                     line-height:1.75\"><font color=\"black\"> [SEP]                    </font></mark></td><tr></table>"
      ],
      "text/plain": [
       "<IPython.core.display.HTML object>"
      ]
     },
     "metadata": {},
     "output_type": "display_data"
    },
    {
     "name": "stdout",
     "output_type": "stream",
     "text": [
      "Convergence Delta: tensor([0.0135], dtype=torch.float64)\n",
      "word importance: ['[CLS]', 'as', 'the', 'clock', 'struck', 'midnight', ',', 'a', 'blood', '##cu', '##rd', '##ling', 'scream', 'pierced', 'the', 'silence', ',', 'echoing', 'through', 'the', 'empty', 'halls', 'of', 'the', 'abandoned', 'mansion', '.', '[SEP]']\n"
     ]
    }
   ],
   "source": [
    "import torch\n",
    "import numpy as np\n",
    "import pandas as pd\n",
    "import seaborn as sns\n",
    "import matplotlib.pyplot as plt\n",
    "from transformers import AutoTokenizer, AutoModelForSequenceClassification\n",
    "from captum.attr import LayerIntegratedGradients, visualization as viz\n",
    "\n",
    "device = torch.device(\"cuda:0\" if torch.cuda.is_available() else \"cpu\")\n",
    "\n",
    "tokenizer = AutoTokenizer.from_pretrained(\"shaggysus/MovieGenrePrediction\")\n",
    "model = AutoModelForSequenceClassification.from_pretrained(\"shaggysus/MovieGenrePrediction\")\n",
    "model.to(device)\n",
    "model.eval()\n",
    "\n",
    "genre_labels = {\n",
    "    0: 'Action',\n",
    "    1: 'Adventure',\n",
    "    2: 'Crime',\n",
    "    3: 'Fantasy',\n",
    "    4: 'Family',\n",
    "    5: 'Horror',\n",
    "    6: 'mystery',\n",
    "    7: 'Romance',\n",
    "    8: 'Sci-Fi',\n",
    "    9: 'Thriller'\n",
    "}\n",
    "\n",
    "def predict_genre(input_ids, attention_mask=None):\n",
    "    output = model(input_ids, attention_mask=attention_mask)\n",
    "    return output.logits\n",
    "\n",
    "\n",
    "def xai_and_predict(subtitle):\n",
    "\n",
    "    inputs = tokenizer(subtitle, return_tensors=\"pt\", truncation=True, padding=True)\n",
    "    inputs.to(device)\n",
    "\n",
    "\n",
    "    genre_logits = predict_genre(inputs['input_ids'], attention_mask=inputs['attention_mask'])\n",
    "    predicted_genre_id = torch.argmax(genre_logits, dim=1).item()\n",
    "\n",
    "\n",
    "    target_index = torch.argmax(genre_logits, dim=1)\n",
    "    lig = LayerIntegratedGradients(predict_genre, model.distilbert.embeddings) \n",
    "    attributions, delta = lig.attribute(inputs['input_ids'], target=target_index, return_convergence_delta=True)\n",
    "    attributions = attributions.sum(dim=-1).squeeze(0)\n",
    "\n",
    "    return genre_labels.get(predicted_genre_id, 'Unknown'), attributions, inputs, delta\n",
    "\n",
    "\n",
    "subtitle = \"As the clock struck midnight, a bloodcurdling scream pierced the silence, echoing through the empty halls of the abandoned mansion.\"\n",
    "\n",
    "\n",
    "predicted_genre, attributions, inputs, delta = xai_and_predict(subtitle)\n",
    "\n",
    "\n",
    "print(\"Predicted Genre:\", predicted_genre)\n",
    "viz.visualize_text([viz.VisualizationDataRecord(\n",
    "                        attributions,\n",
    "                        torch.max(torch.softmax(predict_genre(inputs['input_ids'], attention_mask=inputs['attention_mask']).to(device), dim=1)),\n",
    "                        torch.argmax(predict_genre(inputs['input_ids'], attention_mask=inputs['attention_mask']).to(device)),\n",
    "                        torch.argmax(predict_genre(inputs['input_ids'], attention_mask=inputs['attention_mask']).to(device)),\n",
    "                        str(inputs['input_ids'].tolist()),\n",
    "                        attributions.sum(),\n",
    "                        tokenizer.convert_ids_to_tokens(inputs['input_ids'].squeeze().tolist()),\n",
    "                        convergence_score=delta\n",
    "                    )])\n",
    "print(\"Convergence Delta:\", delta)\n",
    "print(\"word importance:\", tokenizer.convert_ids_to_tokens(inputs['input_ids'].squeeze().tolist()),)\n"
   ]
  }
 ],
 "metadata": {
  "kernelspec": {
   "display_name": "Python 3",
   "language": "python",
   "name": "python3"
  },
  "language_info": {
   "codemirror_mode": {
    "name": "ipython",
    "version": 3
   },
   "file_extension": ".py",
   "mimetype": "text/x-python",
   "name": "python",
   "nbconvert_exporter": "python",
   "pygments_lexer": "ipython3",
   "version": "3.9.10"
  }
 },
 "nbformat": 4,
 "nbformat_minor": 2
}
